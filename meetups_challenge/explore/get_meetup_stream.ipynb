{
 "cells": [
  {
   "cell_type": "code",
   "execution_count": 1,
   "metadata": {},
   "outputs": [],
   "source": [
    "import meetup.api\n",
    "import json\n",
    "from dotenv import load_dotenv\n",
    "import os"
   ]
  },
  {
   "cell_type": "code",
   "execution_count": 2,
   "metadata": {},
   "outputs": [],
   "source": [
    "load_dotenv()\n",
    "\n",
    "# Get API key and secret from environment variables\n",
    "# url = 'https://stream.meetup.com/2/rsvps'\n",
    "api_key = os.getenv('MEETUP_API_KEY')\n",
    "api_secret = os.getenv('MEETUP_API_SECRET')"
   ]
  },
  {
   "cell_type": "code",
   "execution_count": 41,
   "metadata": {},
   "outputs": [],
   "source": [
    "meetup_client = meetup.api.Client(api_key=api_key, api_url='http://api.meetup.com')"
   ]
  },
  {
   "cell_type": "code",
   "execution_count": 39,
   "metadata": {},
   "outputs": [
    {
     "data": {
      "text/plain": [
       "meetup.api.Client"
      ]
     },
     "execution_count": 39,
     "metadata": {},
     "output_type": "execute_result"
    }
   ],
   "source": [
    "type(meetup_client)"
   ]
  },
  {
   "cell_type": "code",
   "execution_count": null,
   "metadata": {},
   "outputs": [],
   "source": [
    "https://www.meetup.com/home/?code=9aafdd3ac136972985ed79d942d4cc22&suggested=true&source=EVENTS"
   ]
  },
  {
   "cell_type": "code",
   "execution_count": null,
   "metadata": {},
   "outputs": [],
   "source": [
    "https://secure.meetup.com/oauth2/authorize?client_id=$api_key&response_type=code&redirect_uri=https://www.meetup.com/"
   ]
  },
  {
   "cell_type": "code",
   "execution_count": null,
   "metadata": {},
   "outputs": [],
   "source": [
    "https://secure.meetup.com/oauth2/access?\n",
    "client_id=$api_key\n",
    "&client_secret=$api_secret\n",
    "&grant_type=authorization_code\n",
    "&redirect_uri=https://www.meetup.com/home/&code=9aafdd3ac136972985ed79d942d4cc22&suggested=true&source=EVENTS"
   ]
  },
  {
   "cell_type": "code",
   "execution_count": null,
   "metadata": {},
   "outputs": [],
   "source": [
    "https://secure.meetup.com/oauth2/authorize?client_id=$api_key&response_type=token&redirect_uri=https://www.meetup.com/"
   ]
  },
  {
   "cell_type": "code",
   "execution_count": 42,
   "metadata": {},
   "outputs": [
    {
     "name": "stdout",
     "output_type": "stream",
     "text": [
      "None/None (None seconds remaining)\n"
     ]
    },
    {
     "ename": "HttpNotFoundError",
     "evalue": "",
     "output_type": "error",
     "traceback": [
      "\u001b[1;31m---------------------------------------------------------------------------\u001b[0m",
      "\u001b[1;31mHttpNotFoundError\u001b[0m                         Traceback (most recent call last)",
      "Cell \u001b[1;32mIn[42], line 1\u001b[0m\n\u001b[1;32m----> 1\u001b[0m \u001b[43mmeetup_client\u001b[49m\u001b[38;5;241;43m.\u001b[39;49m\u001b[43mGetRsvps\u001b[49m\u001b[43m(\u001b[49m\u001b[43m{\u001b[49m\u001b[38;5;124;43m'\u001b[39;49m\u001b[38;5;124;43mrsvp\u001b[39;49m\u001b[38;5;124;43m'\u001b[39;49m\u001b[43m:\u001b[49m\u001b[38;5;124;43m\"\u001b[39;49m\u001b[38;5;124;43myes\u001b[39;49m\u001b[38;5;124;43m\"\u001b[39;49m\u001b[43m}\u001b[49m\u001b[43m)\u001b[49m\n",
      "File \u001b[1;32mc:\\python310\\lib\\site-packages\\meetup\\api.py:164\u001b[0m, in \u001b[0;36mClient._call\u001b[1;34m(self, service_name, parameters, **kwargs)\u001b[0m\n\u001b[0;32m    162\u001b[0m     \u001b[38;5;28;01mraise\u001b[39;00m exceptions\u001b[38;5;241m.\u001b[39mHttpUnauthorized\n\u001b[0;32m    163\u001b[0m \u001b[38;5;28;01mif\u001b[39;00m response\u001b[38;5;241m.\u001b[39mstatus_code \u001b[38;5;241m==\u001b[39m \u001b[38;5;241m404\u001b[39m:\n\u001b[1;32m--> 164\u001b[0m     \u001b[38;5;28;01mraise\u001b[39;00m exceptions\u001b[38;5;241m.\u001b[39mHttpNotFoundError\n\u001b[0;32m    166\u001b[0m \u001b[38;5;66;03m# If we have two or less remaining calls in the period, wait (if the wait flag is set).\u001b[39;00m\n\u001b[0;32m    167\u001b[0m \u001b[38;5;66;03m# I tried only waiting after a 429 error, and ended getting locked out doing parallel testing.\u001b[39;00m\n\u001b[0;32m    168\u001b[0m \u001b[38;5;28;01mif\u001b[39;00m \u001b[38;5;28mint\u001b[39m(\u001b[38;5;28mself\u001b[39m\u001b[38;5;241m.\u001b[39mrate_limit\u001b[38;5;241m.\u001b[39mremaining) \u001b[38;5;241m<\u001b[39m\u001b[38;5;241m=\u001b[39m \u001b[38;5;241m5\u001b[39m \u001b[38;5;129;01mand\u001b[39;00m \u001b[38;5;28mself\u001b[39m\u001b[38;5;241m.\u001b[39moverlimit_wait:\n",
      "\u001b[1;31mHttpNotFoundError\u001b[0m: "
     ]
    }
   ],
   "source": [
    "meetup_client.GetRsvps({'rsvp':\"yes\"})"
   ]
  }
 ],
 "metadata": {
  "kernelspec": {
   "display_name": "Python 3",
   "language": "python",
   "name": "python3"
  },
  "language_info": {
   "codemirror_mode": {
    "name": "ipython",
    "version": 3
   },
   "file_extension": ".py",
   "mimetype": "text/x-python",
   "name": "python",
   "nbconvert_exporter": "python",
   "pygments_lexer": "ipython3",
   "version": "3.10.11"
  }
 },
 "nbformat": 4,
 "nbformat_minor": 2
}
